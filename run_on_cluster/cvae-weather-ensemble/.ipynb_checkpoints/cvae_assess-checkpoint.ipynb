{
 "cells": [
  {
   "cell_type": "markdown",
   "metadata": {},
   "source": [
    "# **CVAE Assess on a Trained model**\n",
    "The goal here is to use a trained CVAE model with new data to create synthetic ensemble members."
   ]
  },
  {
   "cell_type": "markdown",
   "metadata": {},
   "source": [
    "# Libraries"
   ]
  },
  {
   "cell_type": "code",
   "execution_count": null,
   "metadata": {
    "tags": []
   },
   "outputs": [],
   "source": [
    "# imports\n",
    "import tensorflow as tf\n",
    "tf.compat.v1.enable_eager_execution()\n",
    "\n",
    "import os, json\n",
    "import netCDF4\n",
    "import cartopy\n",
    "\n",
    "import numpy as np\n",
    "import pandas as pd\n",
    "import matplotlib.pyplot as plt\n",
    "from scipy.ndimage.filters import gaussian_filter as gf\n",
    "\n",
    "from tensorflow import keras\n",
    "from keras import layers\n",
    "import cProfile   # For eager execution, https://www.tensorflow.org/guide/eager\n",
    "from sklearn.model_selection import train_test_split\n",
    "\n",
    "from scripts.cvae import Sampling, build_encoder, calculate_final_shape, calculate_output_paddings\n",
    "from scripts.cvae import build_decoder, VAE, plot_latent_space, plot_images\n",
    "\n",
    "from scripts.get_data import download_file\n",
    "from scripts.get_data import convert_file\n",
    "from scripts.get_data import subset_file\n",
    "from scripts.get_data import remove_data # removes all data"
   ]
  },
  {
   "cell_type": "code",
   "execution_count": null,
   "metadata": {
    "tags": []
   },
   "outputs": [],
   "source": [
    "# data loading\n",
    "def load_data(data_dir):      \n",
    "    files = [f for f in os.listdir(data_dir)] # if ('subset' in f and 'tmp' not in f)]\n",
    "    \n",
    "    all_data = ((np.expand_dims(\n",
    "        np.concatenate(\n",
    "            [netCDF4.Dataset(data_dir + converted_file)['msl'][:] for converted_file in files]\n",
    "        ),\n",
    "        -1\n",
    "    ).astype(\"float32\") - 85000) / (110000 - 85000)).astype(\"float16\")\n",
    "    \n",
    "    return all_data"
   ]
  },
  {
   "cell_type": "code",
   "execution_count": null,
   "metadata": {
    "tags": []
   },
   "outputs": [],
   "source": [
    "print(\"TF version:\", tf.__version__)\n",
    "print(\"GPU is\", \"available\" if tf.config.list_physical_devices('GPU') else \"NOT AVAILABLE\")"
   ]
  },
  {
   "cell_type": "markdown",
   "metadata": {},
   "source": [
    "# Load and preprocess the input data"
   ]
  },
  {
   "cell_type": "code",
   "execution_count": null,
   "metadata": {
    "tags": []
   },
   "outputs": [],
   "source": [
    "data_pdir = \"./gefs_data\"\n",
    "data_dir = \"./gefs_data/converted/\"\n",
    "model_dir = './model_dir'"
   ]
  },
  {
   "cell_type": "code",
   "execution_count": null,
   "metadata": {
    "tags": []
   },
   "outputs": [],
   "source": [
    "# example parameters\n",
    "ex_year = \"2018\"\n",
    "ex_month = \"01\"\n",
    "ex_day = \"01\"\n",
    "ex_ensemble = \"c00\""
   ]
  },
  {
   "cell_type": "code",
   "execution_count": null,
   "metadata": {
    "tags": []
   },
   "outputs": [],
   "source": [
    "# example for getting and converting files \n",
    "download_file(ex_year, ex_month, ex_day, ex_ensemble, data_pdir)\n",
    "convert_file(ex_year, ex_month, ex_day, ex_ensemble, data_dir)\n",
    "slp = load_data(data_dir)"
   ]
  },
  {
   "cell_type": "code",
   "execution_count": null,
   "metadata": {
    "tags": []
   },
   "outputs": [],
   "source": [
    "# look at data structure\n",
    "print(np.shape(slp))"
   ]
  },
  {
   "cell_type": "code",
   "execution_count": null,
   "metadata": {
    "tags": []
   },
   "outputs": [],
   "source": [
    "# grid point locations\n",
    "lons = np.loadtxt('coordinates/lon.x')\n",
    "lats = np.loadtxt('coordinates/lat.y')\n",
    "\n",
    "x, y = np.meshgrid(lons,lats)"
   ]
  },
  {
   "cell_type": "code",
   "execution_count": null,
   "metadata": {
    "tags": []
   },
   "outputs": [],
   "source": [
    "# example for plot\n",
    "def plot_map(images, num_levels, need_filter):\n",
    "    # plot set up\n",
    "    c = 'k'\n",
    "    fig = plt.figure(figsize = (9,6))\n",
    "    ax = plt.axes(projection = cartopy.crs.LambertConformal())\n",
    "    \n",
    "    # add features to the map\n",
    "    ax.add_feature(cartopy.feature.LAND)\n",
    "    ax.add_feature(cartopy.feature.OCEAN)\n",
    "    ax.add_feature(cartopy.feature.LAKES, alpha = 0.5)\n",
    "    ax.add_feature(cartopy.feature.STATES, edgecolor = 'grey')\n",
    "    \n",
    "    # plot each given image\n",
    "    for i, image in enumerate(images):\n",
    "        if i == 0: # print only first time step\n",
    "            if need_filter:\n",
    "                plt_points = gf(np.squeeze(image) * (110000 - 85000) + 85000, sigma = 0.5, mode = 'nearest')\n",
    "                print(i, \"filtered mean:\", np.mean(plt_points))\n",
    "                print(i, \"filtered std:\", np.std(plt_points))\n",
    "                c = 'r'\n",
    "            else:\n",
    "                plt_points = np.squeeze(image[:,:,0]) * (110000 - 85000) + 85000\n",
    "\n",
    "        # contour levels\n",
    "        data_min = np.min(plt_points) # min level\n",
    "        data_max = np.max(plt_points) # max level\n",
    "\n",
    "        # plotting the contour\n",
    "        plt.contour(x, y, plt_points,\n",
    "                    transform = cartopy.crs.PlateCarree(),\n",
    "                    levels = np.linspace(data_min, data_max, num_levels),\n",
    "                    colors = c,\n",
    "                    linewidths = 1) \n",
    "\n",
    "    ax.set_extent([-150, -60, 20, 65]) # ax.set_extent([-120, -73, 23, 50])\n",
    "\n",
    "    plt.title('GEFSv12 MSL 2017 01 01 0000 UTC')\n",
    "    # plt.colorbar()\n",
    "    plt.show()"
   ]
  },
  {
   "cell_type": "code",
   "execution_count": null,
   "metadata": {
    "tags": []
   },
   "outputs": [],
   "source": [
    "slp.shape"
   ]
  },
  {
   "cell_type": "code",
   "execution_count": null,
   "metadata": {
    "tags": []
   },
   "outputs": [],
   "source": [
    "plot_map(slp, 20, True)\n",
    "# plot_map(slp, 20, False)"
   ]
  },
  {
   "cell_type": "markdown",
   "metadata": {},
   "source": [
    "# Load ML model"
   ]
  },
  {
   "cell_type": "code",
   "execution_count": null,
   "metadata": {
    "tags": []
   },
   "outputs": [],
   "source": [
    "# key CVAE definition parameters\n",
    "latent_dim = 2\n",
    "batch_size, height, width, channels = slp.shape\n",
    "\n",
    "encoder = build_encoder(latent_dim)\n",
    "decoder = build_decoder(latent_dim)\n",
    "vae = VAE(encoder, decoder)\n",
    "vae.compile(optimizer = 'rmsprop')\n",
    "vae.load_weights(os.path.join('model_dir', 'vae.weights.h5'))"
   ]
  },
  {
   "cell_type": "code",
   "execution_count": null,
   "metadata": {
    "tags": []
   },
   "outputs": [],
   "source": [
    "z_mean, z_log_var, z = vae.encoder((np.expand_dims(slp[0:79:2,:,:,:], -1)))\n",
    "sample_output_images = vae.decoder(z)"
   ]
  },
  {
   "cell_type": "code",
   "execution_count": null,
   "metadata": {
    "tags": []
   },
   "outputs": [],
   "source": [
    "# plt.scatter(z[:, 0], z[:, 1])\n",
    "# plt.show()\n",
    "\n",
    "fig, ax = plt.subplots(1,1)\n",
    "ax.plot(z[:,0],z[:,1],\"b-\")"
   ]
  },
  {
   "cell_type": "markdown",
   "metadata": {},
   "source": [
    "# Encode, perturb, and decode"
   ]
  },
  {
   "cell_type": "code",
   "execution_count": null,
   "metadata": {
    "tags": []
   },
   "outputs": [],
   "source": [
    "gf(np.squeeze(sample_output_images[0]) * (110000 - 85000) + 85000, [3,3], mode = 'constant')"
   ]
  },
  {
   "cell_type": "code",
   "execution_count": null,
   "metadata": {
    "tags": []
   },
   "outputs": [],
   "source": [
    "# plot each decoded state\n",
    "plot_map(sample_output_images, 20, True)\n",
    "\n",
    "# # plot original\n",
    "# print('Filtering...')\n",
    "# filtered = gf(np.squeeze(slp[0,:,:,0]) * (110000 - 85000) + 85000, [3,3], mode = 'constant')\n",
    "\n",
    "# # get the min and max of data\n",
    "# data_min = np.min(filtered)\n",
    "# data_max = np.max(filtered)\n",
    "# # number of levels\n",
    "# num_levels = 20\n",
    "\n",
    "# print('Contour plotting...')\n",
    "# plt.contour(x, y, filtered,\n",
    "#             transform = cartopy.crs.PlateCarree(),\n",
    "#             levels = np.linspace(data_min, data_max, num_levels), # list of contour levels\n",
    "#             colors = 'k',\n",
    "#             linewidths = 2)\n",
    "\n",
    "# # ax.set_xlim([-150,-60])\n",
    "# # ax.set_ylim([20,65])\n",
    "# # plt.colorbar()\n",
    "# plt.show()"
   ]
  },
  {
   "cell_type": "markdown",
   "metadata": {},
   "source": [
    "# Perturb current state"
   ]
  },
  {
   "cell_type": "code",
   "execution_count": null,
   "metadata": {
    "tags": []
   },
   "outputs": [],
   "source": [
    "perturbed_images_high = vae.decoder(z_mean + z_log_var)\n",
    "perturbed_images_low = vae.decoder(z_mean - z_log_var)\n",
    "\n",
    "print(tf.executing_eagerly())\n",
    "# tf.compat.v1.enable_eager_execution()\n",
    "\n",
    "# Plot setup\n",
    "fig = plt.figure(figsize=(9,6))\n",
    "ax = plt.axes(projection = cartopy.crs.LambertConformal())\n",
    "ax.add_feature(cartopy.feature.LAND)\n",
    "ax.add_feature(cartopy.feature.OCEAN)\n",
    "ax.add_feature(cartopy.feature.LAKES, alpha = 0.5)\n",
    "ax.add_feature(cartopy.feature.STATES, edgecolor='grey')\n",
    "\n",
    "# Plot each one\n",
    "for i, image in enumerate(perturbed_images_high):\n",
    "    if i == 0 :\n",
    "        print('Filtering...')\n",
    "        filtered = gf(np.squeeze(image)*120000/100, [3,3], mode='constant')\n",
    "        print('Contour plotting...')\n",
    "        plt.contour(x,y,filtered,\n",
    "            transform = cartopy.crs.PlateCarree(),\n",
    "            levels=[980,990,1000,1010,1015,1020,1025,1030,1035,1040,1045,1050],colors='r',linewidths=1)   \n",
    "\n",
    "# Plot each one\n",
    "for i, image in enumerate(perturbed_images_low):\n",
    "    if i == 0 :\n",
    "        print('Filtering...')\n",
    "        filtered = gf(np.squeeze(image)*120000/100, [3,3], mode='constant')\n",
    "        print('Contour plotting...')\n",
    "        plt.contour(x,y,filtered,\n",
    "            transform = cartopy.crs.PlateCarree(),\n",
    "            levels=[980,990,1000,1010,1015,1020,1025,1030,1035,1040,1045,1050],colors='b',linewidths=1)   \n",
    "    \n",
    "# Plot original\n",
    "plt.contour(x,y,np.squeeze(slp[0,:,:,0])*120000/100,\n",
    "             transform = cartopy.crs.PlateCarree(),\n",
    "             levels=[980,990,1000,1010,1015,1020,1025,1030,1035,1040,1045,1050],colors='k',linewidths=2)\n",
    "\n",
    "plt.title('GEFSv12 Re-forecast SLP 990hPa 2018 01 10 0000 UTC Cycle')\n",
    "#ax.set_extent([-120, -73, 23, 50])\n",
    "ax.set_extent([-150, -60, 20, 65])\n",
    "#plt.colorbar()\n",
    "plt.show()"
   ]
  },
  {
   "cell_type": "markdown",
   "metadata": {},
   "source": [
    "# Generate totally random weather maps"
   ]
  },
  {
   "cell_type": "code",
   "execution_count": null,
   "metadata": {
    "tags": []
   },
   "outputs": [],
   "source": [
    "codings = tf.random.normal(shape = [12, latent_dim])\n",
    "images = vae.decoder(codings).numpy()\n",
    "\n",
    "# Plot setup\n",
    "fig = plt.figure(figsize=(9,6))\n",
    "ax = plt.axes(projection = cartopy.crs.LambertConformal())\n",
    "ax.add_feature(cartopy.feature.LAND)\n",
    "ax.add_feature(cartopy.feature.OCEAN)\n",
    "ax.add_feature(cartopy.feature.LAKES, alpha = 0.5)\n",
    "ax.add_feature(cartopy.feature.STATES, edgecolor='grey')\n",
    "\n",
    "# Plot each one\n",
    "for i, image in enumerate(images):\n",
    "    print('Filtering...')\n",
    "    filtered = gf(np.squeeze(image)*120000/100, [5,5], mode='constant')\n",
    "    plt.contour(x,y,filtered,\n",
    "        transform = cartopy.crs.PlateCarree(),\n",
    "        levels=[970,980,990,1000,1010,1015,1020,1025,1030,1040,1050,1060],colors='k',linewidths=1)\n",
    "        \n",
    "# plt.title('Random MSL pressure maps from ML model trained with GEFSv12 Re-forecast 2018-2019')\n",
    "# ax.set_extent([-120, -73, 23, 50])\n",
    "ax.set_extent([-150, -60, 20, 65])\n",
    "# plt.colorbar()\n",
    "plt.show()"
   ]
  },
  {
   "cell_type": "code",
   "execution_count": null,
   "metadata": {
    "tags": []
   },
   "outputs": [],
   "source": [
    "print(latent_dim)"
   ]
  }
 ],
 "metadata": {
  "kernelspec": {
   "display_name": "Python [conda env:cvae_env]",
   "language": "python",
   "name": "conda-env-cvae_env-py"
  },
  "language_info": {
   "codemirror_mode": {
    "name": "ipython",
    "version": 3
   },
   "file_extension": ".py",
   "mimetype": "text/x-python",
   "name": "python",
   "nbconvert_exporter": "python",
   "pygments_lexer": "ipython3",
   "version": "3.9.18"
  }
 },
 "nbformat": 4,
 "nbformat_minor": 4
}
